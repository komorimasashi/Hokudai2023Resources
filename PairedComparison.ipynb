{
  "nbformat": 4,
  "nbformat_minor": 0,
  "metadata": {
    "colab": {
      "provenance": [],
      "include_colab_link": true
    },
    "kernelspec": {
      "display_name": "R",
      "name": "ir"
    }
  },
  "cells": [
    {
      "cell_type": "markdown",
      "metadata": {
        "id": "view-in-github",
        "colab_type": "text"
      },
      "source": [
        "<a href=\"https://colab.research.google.com/github/komorimasashi/Hokudai2023Resources/blob/main/PairedComparison.ipynb\" target=\"_parent\"><img src=\"https://colab.research.google.com/assets/colab-badge.svg\" alt=\"Open In Colab\"/></a>"
      ]
    },
    {
      "cell_type": "markdown",
      "source": [
        "## Thurstoneの一対比較法"
      ],
      "metadata": {
        "id": "Yz8iC_R3XoK9"
      }
    },
    {
      "cell_type": "code",
      "source": [
        "# サーストンの一対比較法\n",
        "ThurstonePairedComparison <- function(x) {\n",
        "  n_items <- ncol(x)\n",
        "  stopifnot(n_items == nrow(x))\n",
        "\n",
        "  labels <- if(is.null(dimnames(x))) {\n",
        "    LETTERS[1:n_items]\n",
        "  } else if(is.null(colnames(x))) {\n",
        "    rownames(x)\n",
        "  } else {\n",
        "    colnames(x)\n",
        "  }\n",
        "\n",
        "  total_comparisons <- x + t(x)\n",
        "  diag(total_comparisons) <- 1\n",
        "  z_scores <- qnorm(x/total_comparisons)\n",
        "  diag(z_scores) <- NA\n",
        "  item_scores <- rowMeans(z_scores, na.rm=TRUE)\n",
        "  names(item_scores) <- labels\n",
        "\n",
        "  return(structure(list(score=item_scores, sorted.score=sort(item_scores)), class=\"ThurstonePairedComparison\"))\n",
        "}\n",
        "\n",
        "# 結果の表示\n",
        "print.ThurstonePairedComparison <- function(obj, digits=5) {\n",
        "  cat(\"\\nスコア\\n\\n\")\n",
        "  print(round(obj$score, digits=digits))\n",
        "  cat(\"\\nソートされたスコア\\n\\n\")\n",
        "  print(round(obj$sorted.score, digits=digits))\n",
        "}\n",
        "\n",
        "# 結果のプロット\n",
        "plot.ThurstonePairedComparison <- function(obj, xlab=\"Score\", main=\"Thurstone's Paired Comparison\", file=\"\") {\n",
        "  if (file != \"\") {\n",
        "    pdf(file, width=540/72, height=160/72, onefile=FALSE)\n",
        "  }\n",
        "\n",
        "  scores <- obj$score\n",
        "  plot(scores, rep(0, length(scores)), pch=19, xlab=xlab, main=main, xaxt=\"n\", xlim=range(pretty(scores)), ylab=\"\", yaxt=\"n\", ylim=c(0,0.2), bty=\"n\", xpd=TRUE)\n",
        "  text(scores, 0.0, names(scores), pos=3)\n",
        "  axis(1, pos=0)\n",
        "\n",
        "  if (file != \"\") {\n",
        "    dev.off()\n",
        "  }\n",
        "}\n",
        "\n"
      ],
      "metadata": {
        "id": "iJDc2s0YAlPl"
      },
      "execution_count": 7,
      "outputs": []
    },
    {
      "cell_type": "code",
      "source": [
        "# 使用例\n",
        "comparison_matrix <- matrix(c(\n",
        "  0, 72, 73, 70, 73, 73, 69, 60,\n",
        "  2, 0, 32, 1, 18, 6, 2, 1,\n",
        "  1, 42, 0, 1, 19, 17, 2, 1,\n",
        "  4, 73, 73, 0, 59, 63, 44, 22,\n",
        "  1, 56, 55, 15, 0, 24, 9, 7,\n",
        "  1, 68, 57, 11, 50, 0, 15, 10,\n",
        "  5, 72, 72, 30, 65, 59, 0, 18,\n",
        "  14, 73, 73, 52, 67, 64, 56, 0), byrow=TRUE, ncol=8)\n",
        "\n",
        "rownames(comparison_matrix) <- colnames(comparison_matrix) <- LETTERS[1:8]\n",
        "print(comparison_matrix)\n",
        "\n",
        "result <- ThurstonePairedComparison(comparison_matrix)\n",
        "print(result)\n",
        "plot(result)"
      ],
      "metadata": {
        "colab": {
          "base_uri": "https://localhost:8080/",
          "height": 776
        },
        "id": "flQU3WinAqyS",
        "outputId": "6e4bc2a4-6e1a-48c1-e0c6-a26a458fb8bb"
      },
      "execution_count": 8,
      "outputs": [
        {
          "output_type": "stream",
          "name": "stdout",
          "text": [
            "   A  B  C  D  E  F  G  H\n",
            "A  0 72 73 70 73 73 69 60\n",
            "B  2  0 32  1 18  6  2  1\n",
            "C  1 42  0  1 19 17  2  1\n",
            "D  4 73 73  0 59 63 44 22\n",
            "E  1 56 55 15  0 24  9  7\n",
            "F  1 68 57 11 50  0 15 10\n",
            "G  5 72 72 30 65 59  0 18\n",
            "H 14 73 73 52 67 64 56  0\n",
            "\n",
            "スコア\n",
            "\n",
            "       A        B        C        D        E        F        G        H \n",
            " 1.79165 -1.50557 -1.39753  0.62813 -0.66134 -0.37066  0.48890  1.02641 \n",
            "\n",
            "ソートされたスコア\n",
            "\n",
            "       B        C        E        F        G        D        H        A \n",
            "-1.50557 -1.39753 -0.66134 -0.37066  0.48890  0.62813  1.02641  1.79165 \n"
          ]
        },
        {
          "output_type": "display_data",
          "data": {
            "text/plain": [
              "Plot with title “Thurstone's Paired Comparison”"
            ],
            "image/png": "[encoded data removed]"
          },
          "metadata": {
            "image/png": {
              "width": 420,
              "height": 420
            }
          }
        }
      ]
    },
    {
      "cell_type": "markdown",
      "source": [
        "## Scheffeの一対比較法"
      ],
      "metadata": {
        "id": "1PO4Wy06XtMH"
      }
    },
    {
      "cell_type": "code",
      "source": [
        "# Scheffe's Paired Comparison\n",
        "ScheffePairedComparison <- function(A, B, labels = NULL) {\n",
        "    # 評価対象の個数を計算\n",
        "    n <- (1 + sqrt(1 + 8 * nrow(A))) / 2\n",
        "\n",
        "    # デフォルトのラベルを設定（もし指定されていない場合）\n",
        "    if (is.null(labels)) {\n",
        "        labels <- LETTERS[1:n]\n",
        "    }\n",
        "\n",
        "    # 従属変数ベクトルの作成\n",
        "    AB <- A %*% B\n",
        "    # 独立変数行列の作成\n",
        "    x <- combn(n, 2)\n",
        "    nc <- ncol(x)\n",
        "    indep <- matrix(0, nc, n)\n",
        "    indep[cbind(1:nc, x[1,])] <- 1\n",
        "    indep[cbind(1:nc, x[2,])] <- -1\n",
        "\n",
        "    # 重回帰分析\n",
        "    ans <- lm(AB ~ indep[, 2:n])\n",
        "\n",
        "    # 回帰係数を取得し、スコアとして設定\n",
        "    y <- coefficients(ans)\n",
        "    names(y) <- labels\n",
        "\n",
        "    # 結果を返す\n",
        "    return(structure(list(score = y, sorted.score = sort(y)), class = \"ScheffePairedComparison\"))\n",
        "}\n",
        "\n",
        "# プリントメソッド: ScheffePairedComparison オブジェクトの表示\n",
        "print.ScheffePairedComparison <- function(obj, digits = 5) {\n",
        "    cat(\"\\nスコア\\n\\n\")\n",
        "    print(round(obj$score, digits = digits))\n",
        "    cat(\"\\nソートされたスコア\\n\\n\")\n",
        "    print(round(obj$sorted.score, digits = digits))\n",
        "}\n",
        "\n",
        "# プロットメソッド: ScheffePairedComparison オブジェクトの結果をグラフに表示\n",
        "plot.ScheffePairedComparison <- function(obj, xlab = \"Score\", main = \"Scheffe's Paired Comparison\", file = \"\") {\n",
        "    # ファイル出力が指定されている場合、PDFファイルを開く\n",
        "    if (file != \"\") {\n",
        "        pdf(file, width = 540/72, height = 160/72, onefile = FALSE)\n",
        "    }\n",
        "\n",
        "    score <- obj$score\n",
        "    plot(score, rep(0, length(score)), pch = 19, xlab = xlab, main = main, xaxt = \"n\", xlim = range(pretty(score)),\n",
        "         ylab = \"\", yaxt = \"n\", ylim = c(0, 0.2), bty = \"n\", xpd = TRUE)\n",
        "    text(score, 0.0, names(score), pos = 3)\n",
        "    axis(1, pos = 0)\n",
        "\n",
        "    # ファイル出力が指定されている場合、PDFファイルを閉じる\n",
        "    if (file != \"\") {\n",
        "        dev.off()\n",
        "    }\n",
        "}\n"
      ],
      "metadata": {
        "id": "js8NkcKHXVM3"
      },
      "execution_count": 9,
      "outputs": []
    },
    {
      "cell_type": "code",
      "source": [
        "# テストデータの設定\n",
        "B <- c(4, 2, 0, -2, -4)\n",
        "A <- matrix(c(\n",
        "    10, 13, 41, 33, 10,\n",
        "    3, 12, 47, 26, 19,\n",
        "    2, 9, 32, 12, 52,\n",
        "    23, 32, 30, 12, 10,\n",
        "    27, 11, 31, 13, 25,\n",
        "    21, 7, 10, 33, 36), byrow = TRUE, ncol = 5)\n",
        "\n",
        "# 実行例\n",
        "result <- ScheffePairedComparison(A, B, LETTERS[1:4])  # Result displayed with print method\n",
        "print(result)\n",
        "plot(result)"
      ],
      "metadata": {
        "colab": {
          "base_uri": "https://localhost:8080/",
          "height": 616
        },
        "id": "8mOiaemZXXfd",
        "outputId": "831173a4-09fc-4a12-a851-1e1546d8902c"
      },
      "execution_count": 10,
      "outputs": [
        {
          "output_type": "stream",
          "name": "stdout",
          "text": [
            "\n",
            "スコア\n",
            "\n",
            "    A     B     C     D \n",
            " 73.0 155.0 129.5 272.5 \n",
            "\n",
            "ソートされたスコア\n",
            "\n",
            "    A     C     B     D \n",
            " 73.0 129.5 155.0 272.5 \n"
          ]
        },
        {
          "output_type": "display_data",
          "data": {
            "text/plain": [
              "Plot with title “Scheffe's Paired Comparison”"
            ],
            "image/png": "[encoded data removed]"
          },
          "metadata": {
            "image/png": {
              "width": 420,
              "height": 420
            }
          }
        }
      ]
    }
  ]
}