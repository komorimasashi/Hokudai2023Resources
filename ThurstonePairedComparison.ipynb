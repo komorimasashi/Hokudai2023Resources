{
  "nbformat": 4,
  "nbformat_minor": 0,
  "metadata": {
    "colab": {
      "provenance": [],
      "include_colab_link": true
    },
    "kernelspec": {
      "display_name": "R",
      "name": "ir"
    }
  },
  "cells": [
    {
      "cell_type": "markdown",
      "metadata": {
        "id": "view-in-github",
        "colab_type": "text"
      },
      "source": [
        "<a href=\"https://colab.research.google.com/github/komorimasashi/Hokudai2023Resources/blob/main/ThurstonePairedComparison.ipynb\" target=\"_parent\"><img src=\"https://colab.research.google.com/assets/colab-badge.svg\" alt=\"Open In Colab\"/></a>"
      ]
    },
    {
      "cell_type": "code",
      "source": [
        "# サーストンの一対比較法\n",
        "ThurstonePairedComparison <- function(x) {\n",
        "  n_items <- ncol(x)\n",
        "  stopifnot(n_items == nrow(x))\n",
        "\n",
        "  labels <- if(is.null(dimnames(x))) {\n",
        "    LETTERS[1:n_items]\n",
        "  } else if(is.null(colnames(x))) {\n",
        "    rownames(x)\n",
        "  } else {\n",
        "    colnames(x)\n",
        "  }\n",
        "\n",
        "  total_comparisons <- x + t(x)\n",
        "  diag(total_comparisons) <- 1\n",
        "  z_scores <- qnorm(x/total_comparisons)\n",
        "  diag(z_scores) <- NA\n",
        "  item_scores <- rowMeans(z_scores, na.rm=TRUE)\n",
        "  names(item_scores) <- labels\n",
        "\n",
        "  return(structure(list(score=item_scores, sorted.score=sort(item_scores)), class=\"ThurstonePairedComparison\"))\n",
        "}\n",
        "\n",
        "# 結果の表示\n",
        "print.ThurstonePairedComparison <- function(obj, digits=5) {\n",
        "  cat(\"\\nスコア\\n\\n\")\n",
        "  print(round(obj$score, digits=digits))\n",
        "  cat(\"\\nソートされたスコア\\n\\n\")\n",
        "  print(round(obj$sorted.score, digits=digits))\n",
        "}\n",
        "\n",
        "# 結果のプロット\n",
        "plot.ThurstonePairedComparison <- function(obj, xlab=\"Score\", main=\"Thurstone's Paired Comparison\", file=\"\") {\n",
        "  if (file != \"\") {\n",
        "    pdf(file, width=540/72, height=160/72, onefile=FALSE)\n",
        "  }\n",
        "\n",
        "  scores <- obj$score\n",
        "  plot(scores, rep(0, length(scores)), pch=19, xlab=xlab, main=main, xaxt=\"n\", xlim=range(pretty(scores)), ylab=\"\", yaxt=\"n\", ylim=c(0,0.2), bty=\"n\", xpd=TRUE)\n",
        "  text(scores, 0.0, names(scores), pos=3)\n",
        "  axis(1, pos=0)\n",
        "\n",
        "  if (file != \"\") {\n",
        "    dev.off()\n",
        "  }\n",
        "}\n",
        "\n"
      ],
      "metadata": {
        "id": "iJDc2s0YAlPl"
      },
      "execution_count": 1,
      "outputs": []
    },
    {
      "cell_type": "code",
      "source": [
        "# 使用例\n",
        "comparison_matrix <- matrix(c(\n",
        "  0, 72, 73, 70, 73, 73, 69, 60,\n",
        "  2, 0, 32, 1, 18, 6, 2, 1,\n",
        "  1, 42, 0, 1, 19, 17, 2, 1,\n",
        "  4, 73, 73, 0, 59, 63, 44, 22,\n",
        "  1, 56, 55, 15, 0, 24, 9, 7,\n",
        "  1, 68, 57, 11, 50, 0, 15, 10,\n",
        "  5, 72, 72, 30, 65, 59, 0, 18,\n",
        "  14, 73, 73, 52, 67, 64, 56, 0), byrow=TRUE, ncol=8)\n",
        "\n",
        "rownames(comparison_matrix) <- colnames(comparison_matrix) <- LETTERS[1:8]\n",
        "print(comparison_matrix)\n",
        "\n",
        "result <- ThurstonePairedComparison(comparison_matrix)\n",
        "print(result)\n",
        "plot(result)"
      ],
      "metadata": {
        "colab": {
          "base_uri": "https://localhost:8080/",
          "height": 767
        },
        "id": "flQU3WinAqyS",
        "outputId": "c339805e-9aab-44d2-c440-e6fbb486e519"
      },
      "execution_count": 4,
      "outputs": [
        {
          "output_type": "stream",
          "name": "stdout",
          "text": [
            "   A  B  C  D  E  F  G  H\n",
            "A  0 72 73 70 73 73 69 60\n",
            "B  2  0 32  1 18  6  2  1\n",
            "C  1 42  0  1 19 17  2  1\n",
            "D  4 73 73  0 59 63 44 22\n",
            "E  1 56 55 15  0 24  9  7\n",
            "F  1 68 57 11 50  0 15 10\n",
            "G  5 72 72 30 65 59  0 18\n",
            "H 14 73 73 52 67 64 56  0\n",
            "\n",
            "スコア\n",
            "\n",
            "       A        B        C        D        E        F        G        H \n",
            " 1.79165 -1.50557 -1.39753  0.62813 -0.66134 -0.37066  0.48890  1.02641 \n",
            "\n",
            "ソートされたスコア\n",
            "\n",
            "       B        C        E        F        G        D        H        A \n",
            "-1.50557 -1.39753 -0.66134 -0.37066  0.48890  0.62813  1.02641  1.79165 \n"
          ]
        },
        {
          "output_type": "display_data",
          "data": {
            "text/plain": [
              "Plot with title “Thurstone's Paired Comparison”"
            ],
            "image/png": "[encoded data removed]"
          },
          "metadata": {
            "image/png": {
              "width": 420,
              "height": 420
            }
          }
        }
      ]
    }
  ]
}